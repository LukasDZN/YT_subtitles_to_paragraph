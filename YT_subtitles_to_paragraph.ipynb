{
 "cells": [
  {
   "cell_type": "markdown",
   "metadata": {},
   "source": [
    "# YT auto-generated subtitle cleaner and analyzer"
   ]
  },
  {
   "cell_type": "markdown",
   "metadata": {},
   "source": [
    "When downloading Youtube subtitles from websites such as https://savesubs.com/ , the txt file has a separating line in between each subtitle sentence. This function allows to:\n",
    "    \n",
    "    - Open the text file\n",
    "    - Remove the empty lines\n",
    "    - Append the edited text to the end of the same text file after a separating line\n",
    "    - Add a frequency table of the words used\n",
    "    - Add a word count\n",
    "    - Save the edited file\n",
    "    "
   ]
  },
  {
   "cell_type": "code",
   "execution_count": 188,
   "metadata": {},
   "outputs": [],
   "source": [
    "def yt_sub_cleaner(filename):\n",
    "    \n",
    "    # Open file from the desktop\n",
    "    file = open(filename, 'r')\n",
    "    \n",
    "    # Read file (read mode only)\n",
    "    read_f = file.read()\n",
    "    \n",
    "    # Close file\n",
    "    file.close()\n",
    "    \n",
    "    # Inspect the text\n",
    "    print('\\n' * 2 + \"Unedited text example:\" + '\\n' * 2 + read_f[:110])\n",
    "    \n",
    "    # Checking the type of file that is created by the 'read' function\n",
    "    if not isinstance(read_f, str):\n",
    "        print(\"File type is not .txt\")\n",
    "        \n",
    "    # Removing the empty lines '\\n'\n",
    "    no_line_string = read_f.replace('\\n', ' ')\n",
    "    \n",
    "    # Removing double spaces\n",
    "    no_space_string = no_line_string.replace('  ', ' ')\n",
    "    \n",
    "    # Checking to see if the string was successfully cleaned (no new lines or double spaces)\n",
    "    print('\\n' * 5 + \"Edited text example:\" + '\\n' * 2 + no_space_string[:110])\n",
    "    \n",
    "    # -------------------------------------------------------------------------------------\n",
    "    \n",
    "    # Finding most often used words and word count\n",
    "\n",
    "    # Turning a string into a list of words\n",
    "    word_list = no_space_string.split(' ')\n",
    "\n",
    "    # Initiating a dictionary that will count amount of times a certain word is used\n",
    "    count_dict = {}\n",
    "\n",
    "    for word in word_list:\n",
    "\n",
    "        if word not in count_dict:\n",
    "            count_dict[word] = 1\n",
    "        else:\n",
    "            count_dict[word] += 1\n",
    "\n",
    "    # Turn a dictionary into a list and sort it from highest to lowest\n",
    "    count_list = []\n",
    "\n",
    "    for key in count_dict.keys():\n",
    "        count_list.append([count_dict[key], key])\n",
    "\n",
    "    sorted_list = sorted(count_list, reverse=True)\n",
    "    \n",
    "    # Removing less relevant words from the list\n",
    "    sorted_list = sorted_list[:50]\n",
    "    \n",
    "    # -------------------------------------------------------------------------------------\n",
    "    \n",
    "    # Opening the original file to write to (append)\n",
    "    f = open(filename, \"a\")\n",
    "    \n",
    "    # Add a separating string\n",
    "    separating_str = '\\n' * 2 + '____' * 10 + '\\n' * 2\n",
    "    f.write(separating_str)\n",
    "    \n",
    "    # Add the edited string\n",
    "    f.write(no_space_string)\n",
    "    \n",
    "    # Add the sorted list of used words\n",
    "    f.write('\\n' * 2)\n",
    "    \n",
    "    for item in sorted_list:\n",
    "        f.write('\\n' + str(item[0]) + ':' + str(item[1]))\n",
    "    \n",
    "    # Add word count\n",
    "    f.write('\\n' * 2 + 'Word count: ' + str(len(word_list)))\n",
    "    \n",
    "    # Close the file again\n",
    "    f.close()"
   ]
  },
  {
   "cell_type": "code",
   "execution_count": 189,
   "metadata": {},
   "outputs": [],
   "source": [
    "# Insert name of the file:\n",
    "text_file_name = r'C:\\Users\\_____\\Desktop\\____.txt'"
   ]
  },
  {
   "cell_type": "code",
   "execution_count": 190,
   "metadata": {},
   "outputs": [
    {
     "name": "stdout",
     "output_type": "stream",
     "text": [
      "\n",
      "\n",
      "Unedited text example:\n",
      "\n",
      "so I think about this a lot what exactly\n",
      "\n",
      "separates the most successful people\n",
      "\n",
      "from the rest how do they do w\n",
      "\n",
      "\n",
      "\n",
      "\n",
      "\n",
      "Edited text example:\n",
      "\n",
      "so I think about this a lot what exactly separates the most successful people from the rest how do they do wha\n"
     ]
    }
   ],
   "source": [
    "# Calling the function\n",
    "yt_sub_cleaner(text_file_name)"
   ]
  },
  {
   "cell_type": "code",
   "execution_count": null,
   "metadata": {},
   "outputs": [],
   "source": []
  }
 ],
 "metadata": {
  "kernelspec": {
   "display_name": "Python 3",
   "language": "python",
   "name": "python3"
  },
  "language_info": {
   "codemirror_mode": {
    "name": "ipython",
    "version": 3
   },
   "file_extension": ".py",
   "mimetype": "text/x-python",
   "name": "python",
   "nbconvert_exporter": "python",
   "pygments_lexer": "ipython3",
   "version": "3.6.8"
  }
 },
 "nbformat": 4,
 "nbformat_minor": 2
}
